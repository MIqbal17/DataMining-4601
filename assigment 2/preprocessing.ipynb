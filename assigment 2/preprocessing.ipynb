{
 "cells": [
  {
   "cell_type": "code",
   "execution_count": 1,
   "id": "f2e2a44e",
   "metadata": {},
   "outputs": [],
   "source": [
    "import numpy as np\n",
    "import matplotlib.pyplot as plt\n",
    "import pandas as pd"
   ]
  },
  {
   "cell_type": "code",
   "execution_count": 64,
   "id": "d23d6185",
   "metadata": {},
   "outputs": [],
   "source": [
    "dataset = pd.read_csv('klasifikasi_makhlukhidup.csv')\n",
    "x = dataset.iloc[:, :-1].values\n",
    "y = dataset.iloc[:, -1].values"
   ]
  },
  {
   "cell_type": "code",
   "execution_count": 65,
   "id": "b6e6d99f",
   "metadata": {},
   "outputs": [
    {
     "name": "stdout",
     "output_type": "stream",
     "text": [
      "[['human' 'warm' 'yes' 'no' 'no']\n",
      " ['python' 'cold' 'no' 'no' 'no']\n",
      " ['salmon' 'cold' 'no' 'no' 'yes']\n",
      " ['whale' 'warm' 'yes' 'no' 'yes']\n",
      " ['frog' 'cold' 'no' 'no' 'sometimes']\n",
      " ['komodo' 'cold' 'no' 'no' 'no']\n",
      " ['bat' 'warm' 'yes' 'yes' 'no']\n",
      " ['pigeon' 'warm' 'no' 'yes' 'no']\n",
      " ['cat' 'warm' 'yes' 'no' 'no']\n",
      " ['leopard shark' 'cold' 'yes' 'no' 'yes']\n",
      " ['turtle' 'cold' 'yes' 'no' 'sometimes']\n",
      " ['penguin' 'warm' 'no' 'no' 'sometimes']\n",
      " ['porcupine' 'warm' 'yes' 'no' 'no']\n",
      " ['eel' 'cold' 'no' 'no' 'yes']\n",
      " ['salamander' 'cold' 'no' 'no' 'sometimes']\n",
      " ['gila monster' 'cold' 'no' 'no' 'no']\n",
      " ['platypus' 'warm' 'no' 'no' 'no']\n",
      " ['owl' 'warm' 'no' 'yes' 'no']\n",
      " ['dolphin' 'warm' 'yes' 'no' 'yes']\n",
      " ['eagle' 'warm' 'no' 'yes' 'no']]\n"
     ]
    }
   ],
   "source": [
    "print(x)"
   ]
  },
  {
   "cell_type": "code",
   "execution_count": 66,
   "id": "55182539",
   "metadata": {},
   "outputs": [
    {
     "name": "stdout",
     "output_type": "stream",
     "text": [
      "['mamals' 'reptiles' 'fishes' 'mamals' 'amphibians' 'reptiles' 'mamals'\n",
      " 'birds' 'mamals' 'fishes' 'reptiles' 'birds' 'mamals' 'fishes'\n",
      " 'amphibians' 'reptiles' 'mamals' 'birds' 'mamals' 'birds']\n"
     ]
    }
   ],
   "source": [
    "print(y)"
   ]
  },
  {
   "cell_type": "code",
   "execution_count": 67,
   "id": "ef4b6cb3",
   "metadata": {},
   "outputs": [],
   "source": [
    "from sklearn.preprocessing import LabelEncoder\n",
    "le = LabelEncoder()\n",
    "y = le.fit_transform(y)"
   ]
  },
  {
   "cell_type": "code",
   "execution_count": 68,
   "id": "44ee9975",
   "metadata": {},
   "outputs": [
    {
     "name": "stdout",
     "output_type": "stream",
     "text": [
      "[3 4 2 3 0 4 3 1 3 2 4 1 3 2 0 4 3 1 3 1]\n"
     ]
    }
   ],
   "source": [
    "print(y)"
   ]
  },
  {
   "cell_type": "code",
   "execution_count": 69,
   "id": "463b5bec",
   "metadata": {},
   "outputs": [],
   "source": [
    "from sklearn.model_selection import train_test_split\n",
    "x_train, x_test, y_train, y_test = train_test_split(x, y, test_size = 0.2, random_state = 1)"
   ]
  },
  {
   "cell_type": "code",
   "execution_count": 70,
   "id": "8fda9fdd",
   "metadata": {},
   "outputs": [
    {
     "name": "stdout",
     "output_type": "stream",
     "text": [
      "[['salmon' 'cold' 'no' 'no' 'yes']\n",
      " ['salamander' 'cold' 'no' 'no' 'sometimes']\n",
      " ['frog' 'cold' 'no' 'no' 'sometimes']\n",
      " ['owl' 'warm' 'no' 'yes' 'no']\n",
      " ['pigeon' 'warm' 'no' 'yes' 'no']\n",
      " ['python' 'cold' 'no' 'no' 'no']\n",
      " ['eel' 'cold' 'no' 'no' 'yes']\n",
      " ['human' 'warm' 'yes' 'no' 'no']\n",
      " ['eagle' 'warm' 'no' 'yes' 'no']\n",
      " ['dolphin' 'warm' 'yes' 'no' 'yes']\n",
      " ['leopard shark' 'cold' 'yes' 'no' 'yes']\n",
      " ['gila monster' 'cold' 'no' 'no' 'no']\n",
      " ['cat' 'warm' 'yes' 'no' 'no']\n",
      " ['porcupine' 'warm' 'yes' 'no' 'no']\n",
      " ['penguin' 'warm' 'no' 'no' 'sometimes']\n",
      " ['komodo' 'cold' 'no' 'no' 'no']]\n"
     ]
    }
   ],
   "source": [
    "print(x_train)"
   ]
  },
  {
   "cell_type": "code",
   "execution_count": 71,
   "id": "0bd5dcc7",
   "metadata": {},
   "outputs": [
    {
     "name": "stdout",
     "output_type": "stream",
     "text": [
      "[['whale' 'warm' 'yes' 'no' 'yes']\n",
      " ['platypus' 'warm' 'no' 'no' 'no']\n",
      " ['bat' 'warm' 'yes' 'yes' 'no']\n",
      " ['turtle' 'cold' 'yes' 'no' 'sometimes']]\n"
     ]
    }
   ],
   "source": [
    "print(x_test)"
   ]
  },
  {
   "cell_type": "code",
   "execution_count": 73,
   "id": "719fa376",
   "metadata": {},
   "outputs": [
    {
     "name": "stdout",
     "output_type": "stream",
     "text": [
      "[2 0 0 1 1 4 2 3 1 3 2 4 3 3 1 4]\n"
     ]
    }
   ],
   "source": [
    "print(y_train)"
   ]
  },
  {
   "cell_type": "code",
   "execution_count": 72,
   "id": "e853d3f0",
   "metadata": {},
   "outputs": [
    {
     "name": "stdout",
     "output_type": "stream",
     "text": [
      "[3 3 3 4]\n"
     ]
    }
   ],
   "source": [
    "print(y_test)"
   ]
  }
 ],
 "metadata": {
  "kernelspec": {
   "display_name": "Python 3 (ipykernel)",
   "language": "python",
   "name": "python3"
  },
  "language_info": {
   "codemirror_mode": {
    "name": "ipython",
    "version": 3
   },
   "file_extension": ".py",
   "mimetype": "text/x-python",
   "name": "python",
   "nbconvert_exporter": "python",
   "pygments_lexer": "ipython3",
   "version": "3.10.3"
  }
 },
 "nbformat": 4,
 "nbformat_minor": 5
}
