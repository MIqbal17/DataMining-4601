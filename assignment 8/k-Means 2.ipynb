{
 "cells": [
  {
   "cell_type": "code",
   "execution_count": 1,
   "id": "b56d377b",
   "metadata": {},
   "outputs": [],
   "source": [
    "import numpy as np\n",
    "from matplotlib import pyplot as plt\n",
    "from matplotlib.pyplot import cm\n",
    "import time\n",
    "import itertools"
   ]
  },
  {
   "cell_type": "code",
   "execution_count": 2,
   "id": "9cd33372",
   "metadata": {},
   "outputs": [],
   "source": [
    "datasetpath = \"dataku.txt\"\n",
    "dataset = np.loadtxt(datasetpath, delimiter=\" \")"
   ]
  },
  {
   "cell_type": "code",
   "execution_count": 3,
   "id": "d49df427",
   "metadata": {},
   "outputs": [],
   "source": [
    "k = 2\n",
    "iterationCounter = 0\n",
    "input = dataset"
   ]
  },
  {
   "cell_type": "code",
   "execution_count": 4,
   "id": "07564593",
   "metadata": {},
   "outputs": [],
   "source": [
    "def initCentroid(dataIn, k):\n",
    "    result = dataIn[np.random.choice(dataIn.shape[0],k, replace=False)]\n",
    "    return result"
   ]
  },
  {
   "cell_type": "code",
   "execution_count": 5,
   "id": "a0098c29",
   "metadata": {},
   "outputs": [],
   "source": [
    "def plotClusterResult(listClusterMembers, centroid, iteration, converged):\n",
    "    n = listClusterMembers._len_()\n",
    "    color = iter(cm.rainbow(np.linspace(0, 1, n)))\n",
    "    plt.figure(\"result\")\n",
    "    plt.clf()\n",
    "    plt.title(\"iteration-\" + iteration)\n",
    "    marker = itertools.cycle(('.', '*', '^','x', '+'))\n",
    "    for i in range(n):\n",
    "        col = next(color)\n",
    "        memberCluster = np.asmatrix(listClusterMembers[i])\n",
    "        plt.scatter(np.ravel(memberCLuster[:,0]), np.ravel(memberCluster[:,1]),\n",
    "                   marker=marker._next_(), s=100, c=col, label=\"klaster-\"+str(i+1))\n",
    "    for i in range(n):\n",
    "        plt.scatter((centroid[i, 0]), (centroid[i, 1]), marker=marker._next_()\n",
    "                   , c=col, label=\"centroid-\" +str(i+1))\n",
    "    if(converged == 0):\n",
    "        plt.legend()\n",
    "        plt.ion()\n",
    "        plt.show()\n",
    "        plt.pause(0.1)\n",
    "    if(converged == 1):\n",
    "        plt.legend()\n",
    "        plt.show(block=True)\n",
    "        "
   ]
  },
  {
   "cell_type": "code",
   "execution_count": 6,
   "id": "2be507a0",
   "metadata": {},
   "outputs": [],
   "source": [
    "def kMeans(data, centroidInit):\n",
    "    nCluster = k\n",
    "    global iterationCounter\n",
    "    centroidInit = np.matrix(centroidInit)\n",
    "    while(True):\n",
    "        iterationCounter +=1\n",
    "        euclideanMatrixALLCluster = np.ndarray(shape=(data.shape[0], 0))\n",
    "        for i in range (0, nCluster):\n",
    "            centroidRepeated =np.repeat(centroidInit[i,:], data.shape[0], axis=0)\n",
    "            deltaMatrix = abs(np.subtract(data,centroidRepeated))\n",
    "            eucldeanMatrix = np.sqrt(np.square(deltaMatrix).sum(axis=1))\n",
    "            euclideanMatrixALLCluster = \\\n",
    "            np.concatenate((euclideanMatrixALLCluster, euclideanMatrix), axis = 1)\n",
    "        clusterMatrix=np.rave1(np.argmin(np.matrix(euclideanMatrixALLCluster), axis=1))\n",
    "        listCLusterMember = [[]for i in range(k)]\n",
    "        for i in range(0, data.shape[0]):\n",
    "            listClusterMember[np.asscalar(clusterMatrix[i])].append(data[i,:1])\n",
    "        newCentroid = np.ndarray(shape=(0, centroidInit.shape[1]))\n",
    "        for i in range(0, nCluster):\n",
    "            memberCluster = np.asmatrix(listClusterMember[i])\n",
    "            centroidCluster = memberCluster.mean(axis=0)\n",
    "            newCentroid = np.concatenate(newCentroid, centroidCluster, axis=0)\n",
    "        print(\"iter: \", iterationCounter)\n",
    "        print(\"centroid: \", newCentroid)\n",
    "        if((centroidInit == newCentroid).all()):\n",
    "            break\n",
    "        centroidInit = newCentroid\n",
    "        plotClusterResult(listClusterMember, centroidInit, str(iterationCounter), 0)\n",
    "        time.sleep(1)\n",
    "    return listClusterMember, centroidInit\n",
    "    "
   ]
  },
  {
   "cell_type": "code",
   "execution_count": 7,
   "id": "ebf70af6",
   "metadata": {},
   "outputs": [
    {
     "ename": "NameError",
     "evalue": "name 'euclideanMatrix' is not defined",
     "output_type": "error",
     "traceback": [
      "\u001b[1;31m---------------------------------------------------------------------------\u001b[0m",
      "\u001b[1;31mNameError\u001b[0m                                 Traceback (most recent call last)",
      "Input \u001b[1;32mIn [7]\u001b[0m, in \u001b[0;36m<cell line: 2>\u001b[1;34m()\u001b[0m\n\u001b[0;32m      1\u001b[0m centroidInit \u001b[38;5;241m=\u001b[39m initCentroid(\u001b[38;5;28minput\u001b[39m, k)\n\u001b[1;32m----> 2\u001b[0m clusterResults, centroid \u001b[38;5;241m=\u001b[39m \u001b[43mkMeans\u001b[49m\u001b[43m(\u001b[49m\u001b[38;5;28;43minput\u001b[39;49m\u001b[43m,\u001b[49m\u001b[43m \u001b[49m\u001b[43mcentroidInit\u001b[49m\u001b[43m)\u001b[49m\n\u001b[0;32m      3\u001b[0m plotCLusterResult(clusterResults, centroid, \u001b[38;5;28mstr\u001b[39m(iterationCounter)\u001b[38;5;241m+\u001b[39m \u001b[38;5;124m\"\u001b[39m\u001b[38;5;124m (converged)\u001b[39m\u001b[38;5;124m\"\u001b[39m, \u001b[38;5;241m1\u001b[39m)\n",
      "Input \u001b[1;32mIn [6]\u001b[0m, in \u001b[0;36mkMeans\u001b[1;34m(data, centroidInit)\u001b[0m\n\u001b[0;32m     10\u001b[0m     deltaMatrix \u001b[38;5;241m=\u001b[39m \u001b[38;5;28mabs\u001b[39m(np\u001b[38;5;241m.\u001b[39msubtract(data,centroidRepeated))\n\u001b[0;32m     11\u001b[0m     eucldeanMatrix \u001b[38;5;241m=\u001b[39m np\u001b[38;5;241m.\u001b[39msqrt(np\u001b[38;5;241m.\u001b[39msquare(deltaMatrix)\u001b[38;5;241m.\u001b[39msum(axis\u001b[38;5;241m=\u001b[39m\u001b[38;5;241m1\u001b[39m))\n\u001b[0;32m     12\u001b[0m     euclideanMatrixALLCluster \u001b[38;5;241m=\u001b[39m \\\n\u001b[1;32m---> 13\u001b[0m     np\u001b[38;5;241m.\u001b[39mconcatenate((euclideanMatrixALLCluster, \u001b[43meuclideanMatrix\u001b[49m), axis \u001b[38;5;241m=\u001b[39m \u001b[38;5;241m1\u001b[39m)\n\u001b[0;32m     14\u001b[0m clusterMatrix\u001b[38;5;241m=\u001b[39mnp\u001b[38;5;241m.\u001b[39mrave1(np\u001b[38;5;241m.\u001b[39margmin(np\u001b[38;5;241m.\u001b[39mmatrix(euclideanMatrixALLCluster), axis\u001b[38;5;241m=\u001b[39m\u001b[38;5;241m1\u001b[39m))\n\u001b[0;32m     15\u001b[0m listCLusterMember \u001b[38;5;241m=\u001b[39m [[]\u001b[38;5;28;01mfor\u001b[39;00m i \u001b[38;5;129;01min\u001b[39;00m \u001b[38;5;28mrange\u001b[39m(k)]\n",
      "\u001b[1;31mNameError\u001b[0m: name 'euclideanMatrix' is not defined"
     ]
    }
   ],
   "source": [
    "centroidInit = initCentroid(input, k)\n",
    "clusterResults, centroid = kMeans(input, centroidInit)\n",
    "plotCLusterResult(clusterResults, centroid, str(iterationCounter)+ \" (converged)\", 1)"
   ]
  },
  {
   "cell_type": "code",
   "execution_count": null,
   "id": "d0f068fe",
   "metadata": {},
   "outputs": [],
   "source": []
  }
 ],
 "metadata": {
  "kernelspec": {
   "display_name": "Python 3 (ipykernel)",
   "language": "python",
   "name": "python3"
  },
  "language_info": {
   "codemirror_mode": {
    "name": "ipython",
    "version": 3
   },
   "file_extension": ".py",
   "mimetype": "text/x-python",
   "name": "python",
   "nbconvert_exporter": "python",
   "pygments_lexer": "ipython3",
   "version": "3.10.3"
  }
 },
 "nbformat": 4,
 "nbformat_minor": 5
}
