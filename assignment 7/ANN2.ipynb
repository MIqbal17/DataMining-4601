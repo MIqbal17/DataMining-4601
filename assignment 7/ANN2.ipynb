{
 "cells": [
  {
   "cell_type": "code",
   "execution_count": 1,
   "id": "5ed4fbb9",
   "metadata": {},
   "outputs": [],
   "source": [
    "import numpy as np"
   ]
  },
  {
   "cell_type": "code",
   "execution_count": 2,
   "id": "df51f388",
   "metadata": {},
   "outputs": [],
   "source": [
    "def forwardPass(inputs, weigth, bias):\n",
    "    w_sum = np.dot(inputs, weigth)+ bias\n",
    "    act = w_sum\n",
    "    return act"
   ]
  },
  {
   "cell_type": "code",
   "execution_count": 3,
   "id": "e4c839b0",
   "metadata": {},
   "outputs": [],
   "source": [
    "w = np.array([3.5])\n",
    "b = np.array([3.5])"
   ]
  },
  {
   "cell_type": "code",
   "execution_count": 5,
   "id": "dc24c93b",
   "metadata": {},
   "outputs": [],
   "source": [
    "inputs = np.array([[1], [2], [3]])"
   ]
  },
  {
   "cell_type": "code",
   "execution_count": 6,
   "id": "aba56f88",
   "metadata": {},
   "outputs": [],
   "source": [
    "o_output = forwardPass(inputs, w, b)"
   ]
  },
  {
   "cell_type": "code",
   "execution_count": 7,
   "id": "dd013880",
   "metadata": {},
   "outputs": [
    {
     "name": "stdout",
     "output_type": "stream",
     "text": [
      "Output Layer Output(Linear)\n"
     ]
    }
   ],
   "source": [
    "print('Output Layer Output(Linear)')"
   ]
  },
  {
   "cell_type": "code",
   "execution_count": 8,
   "id": "ef8798d2",
   "metadata": {},
   "outputs": [
    {
     "name": "stdout",
     "output_type": "stream",
     "text": [
      "[ 7.  10.5 14. ] \n",
      "\n"
     ]
    }
   ],
   "source": [
    "print(o_output, \"\\n\")"
   ]
  }
 ],
 "metadata": {
  "kernelspec": {
   "display_name": "Python 3 (ipykernel)",
   "language": "python",
   "name": "python3"
  },
  "language_info": {
   "codemirror_mode": {
    "name": "ipython",
    "version": 3
   },
   "file_extension": ".py",
   "mimetype": "text/x-python",
   "name": "python",
   "nbconvert_exporter": "python",
   "pygments_lexer": "ipython3",
   "version": "3.10.3"
  }
 },
 "nbformat": 4,
 "nbformat_minor": 5
}
