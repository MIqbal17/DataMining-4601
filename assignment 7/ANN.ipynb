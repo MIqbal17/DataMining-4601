{
 "cells": [
  {
   "cell_type": "code",
   "execution_count": 1,
   "id": "eba65d71",
   "metadata": {},
   "outputs": [],
   "source": [
    "import numpy as np"
   ]
  },
  {
   "cell_type": "code",
   "execution_count": 7,
   "id": "a438116d",
   "metadata": {},
   "outputs": [],
   "source": [
    "def forwardPass(inputs, weight, bias, activation = 'linear'):\n",
    "    w_sum = np.dot(inputs, weight)+ bias\n",
    "    \n",
    "    if activation == 'relu':\n",
    "        act = np.maximum(w_sum, 0)\n",
    "    else:\n",
    "        act = w_sum\n",
    "    return act"
   ]
  },
  {
   "cell_type": "code",
   "execution_count": 8,
   "id": "5051cc77",
   "metadata": {},
   "outputs": [],
   "source": [
    "w_H = np.array([[0.00192761, -0.78845304, 0.30310717, 0.44131625, 0.32792646, -0.02451803, 1.43445349, -1.12972116]])\n",
    "b_H = np.array([-0.02657719, -1.15885878, -0.79183501, -0.3550513, -0.23438406, -0.25078532, 0.22305705, 0.80253315])"
   ]
  },
  {
   "cell_type": "code",
   "execution_count": 9,
   "id": "2308ae09",
   "metadata": {},
   "outputs": [],
   "source": [
    "w_o = np.array([[-0.77540326],[0.5030424], [0.37374797], [-0.20287184],[-0.35956827], [-0.54576212], [1.04326093], [0.8857621]])\n",
    "b_o = np.array([0.04351173])"
   ]
  },
  {
   "cell_type": "code",
   "execution_count": 10,
   "id": "b8a8a962",
   "metadata": {},
   "outputs": [],
   "source": [
    "inputs = np.array([[-2], [0], [2]])"
   ]
  },
  {
   "cell_type": "code",
   "execution_count": 11,
   "id": "3a0667d2",
   "metadata": {},
   "outputs": [],
   "source": [
    "h_out = forwardPass(inputs, w_H, b_H, 'relu')"
   ]
  },
  {
   "cell_type": "code",
   "execution_count": 12,
   "id": "06af70f9",
   "metadata": {},
   "outputs": [
    {
     "name": "stdout",
     "output_type": "stream",
     "text": [
      "Hidden Layer Output (ReLU)\n"
     ]
    }
   ],
   "source": [
    "print('Hidden Layer Output (ReLU)')"
   ]
  },
  {
   "cell_type": "code",
   "execution_count": 13,
   "id": "f137bbf0",
   "metadata": {},
   "outputs": [
    {
     "name": "stdout",
     "output_type": "stream",
     "text": [
      "============================\n"
     ]
    }
   ],
   "source": [
    "print('============================')"
   ]
  },
  {
   "cell_type": "code",
   "execution_count": 14,
   "id": "f28e4d07",
   "metadata": {},
   "outputs": [
    {
     "name": "stdout",
     "output_type": "stream",
     "text": [
      "[[0.         0.4180473  0.         0.         0.         0.\n",
      "  0.         3.06197547]\n",
      " [0.         0.         0.         0.         0.         0.\n",
      "  0.22305705 0.80253315]\n",
      " [0.         0.         0.         0.5275812  0.42146886 0.\n",
      "  3.09196403 0.        ]] \n",
      "\n"
     ]
    }
   ],
   "source": [
    "print(h_out, \"\\n\")"
   ]
  },
  {
   "cell_type": "code",
   "execution_count": 15,
   "id": "947c8293",
   "metadata": {},
   "outputs": [],
   "source": [
    "o_out = forwardPass(h_out, w_o, b_o, 'linear')"
   ]
  },
  {
   "cell_type": "code",
   "execution_count": 16,
   "id": "081057f2",
   "metadata": {},
   "outputs": [
    {
     "name": "stdout",
     "output_type": "stream",
     "text": [
      "Output Layer Output(Linear)\n"
     ]
    }
   ],
   "source": [
    "print('Output Layer Output(Linear)')"
   ]
  },
  {
   "cell_type": "code",
   "execution_count": 17,
   "id": "7e9a231a",
   "metadata": {},
   "outputs": [
    {
     "name": "stdout",
     "output_type": "stream",
     "text": [
      "============================\n"
     ]
    }
   ],
   "source": [
    "print('============================')"
   ]
  },
  {
   "cell_type": "code",
   "execution_count": 18,
   "id": "51fccd93",
   "metadata": {},
   "outputs": [
    {
     "name": "stdout",
     "output_type": "stream",
     "text": [
      "[[2.96598907]\n",
      " [0.98707188]\n",
      " [3.0106588 ]] \n",
      "\n"
     ]
    }
   ],
   "source": [
    "print(o_out, \"\\n\")"
   ]
  }
 ],
 "metadata": {
  "kernelspec": {
   "display_name": "Python 3 (ipykernel)",
   "language": "python",
   "name": "python3"
  },
  "language_info": {
   "codemirror_mode": {
    "name": "ipython",
    "version": 3
   },
   "file_extension": ".py",
   "mimetype": "text/x-python",
   "name": "python",
   "nbconvert_exporter": "python",
   "pygments_lexer": "ipython3",
   "version": "3.10.3"
  }
 },
 "nbformat": 4,
 "nbformat_minor": 5
}
