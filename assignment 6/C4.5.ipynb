{
 "cells": [
  {
   "cell_type": "code",
   "execution_count": 1,
   "id": "8851457c",
   "metadata": {},
   "outputs": [],
   "source": [
    "import numpy as np\n",
    "import pandas as pd\n",
    "from sklearn import tree"
   ]
  },
  {
   "cell_type": "code",
   "execution_count": 9,
   "id": "1fe6c3fc",
   "metadata": {},
   "outputs": [],
   "source": [
    "mhsDataset = pd.read_csv('Dataset_Iris.csv',\n",
    "                        delimiter = ',',header = 0)\n",
    "mhsDataset [\"Species\"]=pd.factorize(mhsDataset.Species)[0] \n",
    "mhsDataset = mhsDataset.drop(labels=\"Id\", axis=1)\n",
    "mhsDataset = mhsDataset.to_numpy()"
   ]
  },
  {
   "cell_type": "code",
   "execution_count": 19,
   "id": "2d4bebce",
   "metadata": {},
   "outputs": [],
   "source": [
    "dataTraining = np.concatenate((mhsDataset[0:5,:],\n",
    "                              mhsDataset[15:20,:]), axis=0)\n",
    "dataTesting = np.concatenate((mhsDataset[5:15,:],\n",
    "                              mhsDataset[20:25,:]), axis=0)\n",
    "\n",
    "inputTraining = dataTraining[:,0:4]\n",
    "inputTesting = dataTesting[:,0:4]\n",
    "labelTraining = dataTraining[:,4]\n",
    "labelTesting = dataTesting[:,4]"
   ]
  },
  {
   "cell_type": "code",
   "execution_count": 20,
   "id": "dd74df71",
   "metadata": {},
   "outputs": [
    {
     "name": "stdout",
     "output_type": "stream",
     "text": [
      "label asli :  [0. 0. 0. 0. 0. 0. 0. 0. 0. 0. 0. 0. 0. 0. 0.]\n",
      "hasil prediksi :  [0. 0. 0. 0. 0. 0. 0. 0. 0. 0. 0. 0. 0. 0. 0.]\n",
      "Prediksi benar:  15  data\n",
      "Prediksi salah:  0  data\n",
      "akurasi:  100.0 %\n"
     ]
    }
   ],
   "source": [
    "model = tree.DecisionTreeClassifier()\n",
    "model = model.fit(inputTraining, labelTraining)\n",
    "hasilPrediksi = model.predict(inputTesting)\n",
    "print(\"label asli : \", labelTesting)\n",
    "print(\"hasil prediksi : \", hasilPrediksi)\n",
    "\n",
    "prediksiBenar = (hasilPrediksi == labelTesting).sum()\n",
    "prediksiSalah = (hasilPrediksi != labelTesting).sum()\n",
    "print(\"Prediksi benar: \", prediksiBenar, \" data\")\n",
    "print(\"Prediksi salah: \", prediksiSalah, \" data\")\n",
    "print(\"akurasi: \", prediksiBenar/(prediksiBenar+prediksiSalah)\n",
    "        *100,\"%\")"
   ]
  }
 ],
 "metadata": {
  "kernelspec": {
   "display_name": "Python 3 (ipykernel)",
   "language": "python",
   "name": "python3"
  },
  "language_info": {
   "codemirror_mode": {
    "name": "ipython",
    "version": 3
   },
   "file_extension": ".py",
   "mimetype": "text/x-python",
   "name": "python",
   "nbconvert_exporter": "python",
   "pygments_lexer": "ipython3",
   "version": "3.10.3"
  }
 },
 "nbformat": 4,
 "nbformat_minor": 5
}
